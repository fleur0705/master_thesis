{
  "nbformat": 4,
  "nbformat_minor": 0,
  "metadata": {
    "colab": {
      "provenance": []
    },
    "kernelspec": {
      "name": "python3",
      "display_name": "Python 3"
    },
    "language_info": {
      "name": "python"
    }
  },
  "cells": [
    {
      "cell_type": "markdown",
      "source": [
        "# Install"
      ],
      "metadata": {
        "id": "yzLAf8S7YkhB"
      }
    },
    {
      "cell_type": "code",
      "execution_count": null,
      "metadata": {
        "id": "QN7D1EWrX6pC"
      },
      "outputs": [],
      "source": [
        "from google.colab import drive\n",
        "drive.mount('/content/drive')"
      ]
    },
    {
      "cell_type": "code",
      "source": [
        "import numpy as np\n",
        "import math\n",
        "import pandas as pd\n",
        "from numpy import *\n",
        "import torch\n",
        "from scipy.stats import sem\n",
        "import seaborn as sns\n",
        "import os\n",
        "import pandas as pd\n",
        "import matplotlib.pyplot as plt\n",
        "\n",
        "%matplotlib inline\n",
        "%config InlineBackend.figure_format = 'retina'"
      ],
      "metadata": {
        "id": "S6jqRFQ4YnM7"
      },
      "execution_count": null,
      "outputs": []
    },
    {
      "cell_type": "markdown",
      "source": [
        "# Function"
      ],
      "metadata": {
        "id": "2xUVUnvKYnm2"
      }
    },
    {
      "cell_type": "code",
      "source": [
        "def read_csv(csv_path):\n",
        "  url_data = csv_path.replace('/edit#gid=', '/export?format=csv&gid=')\n",
        "  return pd.read_csv(url_data)"
      ],
      "metadata": {
        "id": "OnVjwg94Yphm"
      },
      "execution_count": null,
      "outputs": []
    },
    {
      "cell_type": "code",
      "source": [
        "def plot_model_weight(dict_weight, fig_name):\n",
        "  df_weight = pd.DataFrame(dict_weight)\n",
        "  \n",
        "  plt.figure(figsize=(16, 4))\n",
        "\n",
        "  df_weight.plot.bar(stacked=True)\n",
        "\n",
        "  plt.ylabel(\"weights\", fontweight='bold')\n",
        "  plt.xticks(rotation=90)\n",
        "  plt.legend().set_visible(True)\n",
        "  plt.legend(loc='center left', bbox_to_anchor=(1.0, 0.85),ncol=1)\n",
        "  plt.grid(True, linestyle='-')\n",
        "  plt.ylim(-2.5, 0)\n",
        "\n",
        "  for label in df_weight.keys():\n",
        "    for x, y in enumerate(df_weight[label]):\n",
        "        plt.text(x, y, y, verticalalignment='center', horizontalalignment='center', va='top', visible=True)\n",
        "\n",
        "  plt.savefig(fig_name, dpi=500, bbox_inches='tight')\n",
        "  plt.show()"
      ],
      "metadata": {
        "id": "wq3C02GUYrE6"
      },
      "execution_count": null,
      "outputs": []
    },
    {
      "cell_type": "code",
      "source": [
        "def plot_model_weight_human_lm(dict_human, dict_bert, dict_gpt, fig_name):\n",
        "  df_human = pd.DataFrame(dict_human)\n",
        "  df_bert = pd.DataFrame(dict_bert)\n",
        "  df_gpt = pd.DataFrame(dict_gpt)\n",
        "\n",
        "  #plot 1: Human\n",
        "  plt.figure(figsize=(16,4))  \n",
        "  \n",
        "  ax1 = plt.subplot(1,3,1) \n",
        "\n",
        "  df_human.plot.bar(stacked=True,ax=ax1)\n",
        "\n",
        "  plt.ylabel(\"weights\",fontweight='bold')\n",
        "  plt.xticks(rotation=90)\n",
        "  plt.legend().set_visible(False)\n",
        "  plt.grid(True,linestyle = '-')\n",
        "  plt.ylim(-2.5,0)\n",
        "  for label in df_human.keys():\n",
        "    for x,y in enumerate(df_human[label]):\n",
        "      plt.text(x,y,y,verticalalignment='center',horizontalalignment='center',va= 'top', visible=True)\n",
        "\n",
        "  plt.title(\"Human\")\n",
        "\n",
        "  #plot 2: BERT\n",
        "  ax2 = plt.subplot(1,3,2)\n",
        "  df_bert.plot.bar(stacked=True, ax=ax2)\n",
        "  plt.xticks(rotation=90)\n",
        "  plt.legend().set_visible(False)\n",
        "  plt.grid(True,linestyle = '-')\n",
        "  plt.ylim(-2.5,0)\n",
        "  for label in df_bert.keys():\n",
        "    for x,y in enumerate(df_bert[label]):\n",
        "      plt.text(x,y,y,verticalalignment='center',horizontalalignment='center',va= 'top', visible=True)\n",
        "  plt.title(\"BERT\")\n",
        "\n",
        "  #plot 3: GPT-2\n",
        "  ax3 = plt.subplot(1,3,3)\n",
        "  df_gpt.plot.bar(stacked=True, ax=ax3)\n",
        "  plt.xticks(rotation=90)\n",
        "  plt.legend(loc='center left', bbox_to_anchor=(1.1, 0.85),ncol=1)\n",
        "  plt.grid(True,linestyle = '-')\n",
        "  plt.ylim(-2.5,0)\n",
        "  for label in df_gpt.keys():\n",
        "    for x,y in enumerate(df_gpt[label]):\n",
        "      plt.text(x,y,y,verticalalignment='center',horizontalalignment='center',va= 'top', visible=True)\n",
        "  plt.title(\"GPT-2\")\n",
        "\n",
        "  plt.savefig(fig_name, dpi=500, bbox_inches='tight')\n",
        "  plt.show()"
      ],
      "metadata": {
        "id": "2F7DnqycY0wI"
      },
      "execution_count": null,
      "outputs": []
    },
    {
      "cell_type": "code",
      "source": [
        "def plot_accep_lp(df_bert, df_gpt, filedr, nb_exp):\n",
        "\n",
        "  # 1) Compute 95 confidence intervelle and 2) reset index and add as new columns\n",
        "  df_accep_mean = df_bert.groupby(['Grammatical function', 'Extraction type']).acceptability_mean.mean().reset_index()\n",
        "  df_accep_se = df_bert.groupby(['Grammatical function', 'Extraction type']).acceptability_mean.apply(sem).mul(1.96).reset_index()\n",
        "\n",
        "  df_bert_mean = df_bert.groupby(['Grammatical function', 'Extraction type']).mean_lp.mean().reset_index()\n",
        "  df_bert_se = df_bert.groupby(['Grammatical function', 'Extraction type']).mean_lp.apply(sem).mul(1.96).reset_index()\n",
        "\n",
        "  df_gpt_mean = df_gpt.groupby(['Grammatical function', 'Extraction type']).mean_lp.mean().reset_index()\n",
        "  df_gpt_se = df_gpt.groupby(['Grammatical function', 'Extraction type']).mean_lp.apply(sem).mul(1.96).reset_index()\n",
        "\n",
        "  # Filter data for 'subject'\n",
        "  df_accep_subject = df_accep_mean[df_accep_mean['Grammatical function'] == 'subject']\n",
        "  df_accep_se_subject = df_accep_se[df_accep_se['Grammatical function'] == 'subject']\n",
        "  df_bert_subject = df_bert_mean[df_bert_mean['Grammatical function'] == 'subject']\n",
        "  df_bert_se_subject = df_bert_se[df_bert_se['Grammatical function'] == 'subject']\n",
        "  df_gpt_subject = df_gpt_mean[df_gpt_mean['Grammatical function'] == 'subject']\n",
        "  df_gpt_se_subject = df_gpt_se[df_gpt_se['Grammatical function'] == 'subject']\n",
        "\n",
        "  # Filter data for 'object'\n",
        "  df_accep_object = df_accep_mean[df_accep_mean['Grammatical function'] == 'object']\n",
        "  df_accep_se_object = df_accep_se[df_accep_se['Grammatical function'] == 'object']\n",
        "  df_bert_object = df_bert_mean[df_bert_mean['Grammatical function'] == 'object']\n",
        "  df_bert_se_object = df_bert_se[df_bert_se['Grammatical function'] == 'object']\n",
        "  df_gpt_object = df_gpt_mean[df_gpt_mean['Grammatical function'] == 'object']\n",
        "  df_gpt_se_object = df_gpt_se[df_gpt_se['Grammatical function'] == 'object']\n",
        "\n",
        "  # Sort based on 'Extraction type' column in alphabetical order\n",
        "  df_accep_subject = df_accep_subject.sort_values('Extraction type')\n",
        "  df_accep_se_subject = df_accep_se_subject.sort_values('Extraction type')\n",
        "  df_accep_object = df_accep_object.sort_values('Extraction type')\n",
        "  df_accep_se_object = df_accep_se_object.sort_values('Extraction type')\n",
        "\n",
        "  df_bert_subject = df_bert_subject.sort_values('Extraction type')\n",
        "  df_bert_se_subject = df_bert_se_subject.sort_values('Extraction type')\n",
        "  df_bert_object = df_bert_object.sort_values('Extraction type')\n",
        "  df_bert_se_object = df_bert_se_object.sort_values('Extraction type')\n",
        "\n",
        "  df_gpt_subject = df_gpt_subject.sort_values('Extraction type')\n",
        "  df_gpt_se_subject = df_gpt_se_subject.sort_values('Extraction type')\n",
        "  df_gpt_object = df_gpt_object.sort_values('Extraction type')\n",
        "  df_gpt_se_object = df_gpt_se_object.sort_values('Extraction type')\n",
        "\n",
        "\n",
        "  # store\n",
        "  df_merged_accep = pd.merge(df_accep_mean, df_accep_se, on=['Grammatical function', 'Extraction type'], suffixes=('_mean', '_se'))\n",
        "  df_merged_bert = pd.merge(df_bert_mean, df_bert_se, on=['Grammatical function', 'Extraction type'], suffixes=('_mean', '_se'))\n",
        "  df_merged_gpt = pd.merge(df_gpt_mean, df_gpt_se, on=['Grammatical function', 'Extraction type'], suffixes=('_mean', '_se'))\n",
        "\n",
        "  df_merged = pd.concat([df_merged_accep, df_merged_bert, df_merged_gpt], keys=['accep', 'bert', 'gpt'])\n",
        "\n",
        "  df_merged = df_merged.reset_index(level=0)\n",
        "  df_merged.rename(columns={'level_0': 'Source'}, inplace=True)\n",
        "  df_merged.to_csv(filedr+'exp'+str(nb_exp)+'.csv', index=False)\n",
        "\n",
        "  # Create subplots\n",
        "  fig, axes = plt.subplots(1, 3, figsize=(15, 5))\n",
        "\n",
        "  # Plot mean acceptability\n",
        "  axes[0].errorbar(df_accep_subject['Extraction type'], df_accep_subject['acceptability_mean'], yerr=df_accep_se_subject['acceptability_mean'], fmt='o-', capsize=4, label='subject', color='r')\n",
        "  axes[0].errorbar(df_accep_object['Extraction type'], df_accep_object['acceptability_mean'], yerr=df_accep_se_object['acceptability_mean'], fmt='o-', capsize=4, label='object', color='b')\n",
        "  axes[0].set_title('Human',fontweight='bold')\n",
        "  #axes[0].set_xlabel('Extraction Type')\n",
        "  axes[0].set_ylabel('Mean Acceptability')\n",
        "  axes[0].set_ylim(0, 7)\n",
        "  axes[0].tick_params(axis='x', rotation=90)\n",
        "  #axes[0].legend()\n",
        "\n",
        "  # Plot BERT mean lp\n",
        "  axes[1].errorbar(df_bert_subject['Extraction type'], df_bert_subject['mean_lp'], yerr=df_bert_se_subject['mean_lp'], fmt='o-', capsize=4, label='subject', color='r')\n",
        "  axes[1].errorbar(df_bert_object['Extraction type'], df_bert_object['mean_lp'], yerr=df_bert_se_object['mean_lp'], fmt='o-', capsize=4, label='object', color='b')\n",
        "  axes[1].set_title('BERT',fontweight='bold')\n",
        "  axes[1].set_xlabel('Extraction Types', fontsize=12)\n",
        "  axes[1].set_ylabel('Mean Log-Probability')\n",
        "  axes[1].set_ylim(-14, -7)\n",
        "  axes[1].tick_params(axis='x', rotation=90)\n",
        "  #axes[1].legend()\n",
        "\n",
        "  # Plot GPT mean lp\n",
        "  axes[2].errorbar(df_gpt_subject['Extraction type'], df_gpt_subject['mean_lp'], yerr=df_gpt_se_object['mean_lp'], fmt='o-', capsize=4, label='subject', color='r')\n",
        "  axes[2].errorbar(df_gpt_object['Extraction type'], df_gpt_object['mean_lp'], yerr=df_gpt_se_object['mean_lp'], fmt='o-', capsize=4, label='object', color='b')\n",
        "  axes[2].set_title('GPT-2',fontweight='bold')\n",
        "  axes[2].tick_params(axis='x', rotation=90)\n",
        "  axes[2].set_ylim(-7, 0)\n",
        "  axes[2].set_ylabel('Mean Log-Probability')\n",
        "  axes[2].legend(loc='upper right', bbox_to_anchor=(1.3, 1.0))\n",
        "\n",
        "  # Adjust layout spacing\n",
        "  plt.tight_layout()\n",
        "  plt.subplots_adjust(wspace=0.18, hspace=0.3)\n",
        "  plt.savefig('exp'+str(nb_exp)+'.png', dpi=500, bbox_inches='tight')\n",
        "  # Show the plot\n",
        "  plt.show()"
      ],
      "metadata": {
        "id": "FjRIs0JBY-cT"
      },
      "execution_count": null,
      "outputs": []
    },
    {
      "cell_type": "code",
      "source": [
        "def analyse_position_6(df, condition = 'condition'):\n",
        "  lst_mean_surprisal_1 = []\n",
        "  lst_mean_surprisal_2 = []\n",
        "  lst_mean_surprisal_3 = []\n",
        "  lst_mean_surprisal_4 = []\n",
        "  lst_mean_surprisal_5 = []\n",
        "  lst_mean_surprisal_6 = []\n",
        "\n",
        "  lst_sem_surprisal_1 = []\n",
        "  lst_sem_surprisal_2 = []\n",
        "  lst_sem_surprisal_3 = []\n",
        "  lst_sem_surprisal_4 = []\n",
        "  lst_sem_surprisal_5 = []\n",
        "  lst_sem_surprisal_6 = []\n",
        "\n",
        "  lst_y = []\n",
        "  lst_y_err = []\n",
        "\n",
        "  lst_condition = list(df[condition].value_counts().index)\n",
        "\n",
        "  for conditon in lst_condition:\n",
        "    df_condition = df[df[condition]==conditon]\n",
        "    lst_mean_surprisal_1.append(df_condition['surprisal_zone1'].mean())\n",
        "    lst_mean_surprisal_2.append(df_condition['surprisal_zone2'].mean())\n",
        "    lst_mean_surprisal_3.append(df_condition['surprisal_zone3'].mean())\n",
        "    lst_mean_surprisal_4.append(df_condition['surprisal_zone4'].mean())\n",
        "    lst_mean_surprisal_5.append(df_condition['surprisal_zone5'].mean())\n",
        "    lst_mean_surprisal_6.append(df_condition['surprisal_zone6'].mean())\n",
        "\n",
        "    lst_sem_surprisal_1.append(sem(df_condition['surprisal_zone1']))\n",
        "    lst_sem_surprisal_2.append(sem(df_condition['surprisal_zone2']))\n",
        "    lst_sem_surprisal_3.append(sem(df_condition['surprisal_zone3']))\n",
        "    lst_sem_surprisal_4.append(sem(df_condition['surprisal_zone4']))\n",
        "    lst_sem_surprisal_5.append(sem(df_condition['surprisal_zone5']))\n",
        "    lst_sem_surprisal_6.append(sem(df_condition['surprisal_zone6']))\n",
        "\n",
        "    lst_y.append([df_condition['surprisal_zone1'].mean(), df_condition['surprisal_zone2'].mean(), df_condition['surprisal_zone3'].mean(), df_condition['surprisal_zone4'].mean(),\n",
        "                  df_condition['surprisal_zone5'].mean(), df_condition['surprisal_zone6'].mean()])\n",
        "    lst_y_err.append([sem(df_condition['surprisal_zone1']), sem(df_condition['surprisal_zone2']),sem(df_condition['surprisal_zone3']), sem(df_condition['surprisal_zone4']),\n",
        "                      sem(df_condition['surprisal_zone5']), sem(df_condition['surprisal_zone6'])])\n",
        "  \n",
        "  df_result = {'condition':lst_condition, '1':lst_mean_surprisal_1, '2':lst_mean_surprisal_2, '3':lst_mean_surprisal_3, '4':lst_mean_surprisal_4, '5':lst_mean_surprisal_5,\n",
        "               '6':lst_mean_surprisal_6, \n",
        "               'sem_surprisal_1':lst_sem_surprisal_1, 'sem_surprisal_2':lst_sem_surprisal_2,'sem_surprisal_3':lst_sem_surprisal_3,'sem_surprisal_4':lst_sem_surprisal_4, \n",
        "               'sem_surprisal_5':lst_sem_surprisal_5, 'sem_surprisal_6':lst_sem_surprisal_6,\n",
        "               'lst_y':lst_y, 'lst_y_err':lst_y_err}\n",
        "  df_result = pd.DataFrame(df_result)\n",
        "  return df_result"
      ],
      "metadata": {
        "id": "FJlKWmmCZXBP"
      },
      "execution_count": null,
      "outputs": []
    },
    {
      "cell_type": "code",
      "source": [
        "def analyse_position_8(df, condition = 'condition'):\n",
        "  lst_mean_surprisal_1 = []\n",
        "  lst_mean_surprisal_2 = []\n",
        "  lst_mean_surprisal_3 = []\n",
        "  lst_mean_surprisal_4 = []\n",
        "  lst_mean_surprisal_5 = []\n",
        "  lst_mean_surprisal_6 = []\n",
        "  lst_mean_surprisal_7 = []\n",
        "  lst_mean_surprisal_8 = []\n",
        "\n",
        "  lst_sem_surprisal_1 = []\n",
        "  lst_sem_surprisal_2 = []\n",
        "  lst_sem_surprisal_3 = []\n",
        "  lst_sem_surprisal_4 = []\n",
        "  lst_sem_surprisal_5 = []\n",
        "  lst_sem_surprisal_6 = []\n",
        "  lst_sem_surprisal_7 = []\n",
        "  lst_sem_surprisal_8 = []\n",
        "\n",
        "  lst_y = []\n",
        "  lst_y_err = []\n",
        "\n",
        "  lst_condition = list(df[condition].value_counts().index)\n",
        "\n",
        "  for conditon in lst_condition:\n",
        "    df_condition = df[df[condition]==conditon]\n",
        "    lst_mean_surprisal_1.append(df_condition['surprisal_zone1'].mean())\n",
        "    lst_mean_surprisal_2.append(df_condition['surprisal_zone2'].mean())\n",
        "    lst_mean_surprisal_3.append(df_condition['surprisal_zone3'].mean())\n",
        "    lst_mean_surprisal_4.append(df_condition['surprisal_zone4'].mean())\n",
        "    lst_mean_surprisal_5.append(df_condition['surprisal_zone5'].mean())\n",
        "    lst_mean_surprisal_6.append(df_condition['surprisal_zone6'].mean())\n",
        "    lst_mean_surprisal_7.append(df_condition['surprisal_zone7'].mean())\n",
        "    lst_mean_surprisal_8.append(df_condition['surprisal_zone8'].mean())\n",
        "\n",
        "    lst_sem_surprisal_1.append(sem(df_condition['surprisal_zone1']))\n",
        "    lst_sem_surprisal_2.append(sem(df_condition['surprisal_zone2']))\n",
        "    lst_sem_surprisal_3.append(sem(df_condition['surprisal_zone3']))\n",
        "    lst_sem_surprisal_4.append(sem(df_condition['surprisal_zone4']))\n",
        "    lst_sem_surprisal_5.append(sem(df_condition['surprisal_zone5']))\n",
        "    lst_sem_surprisal_6.append(sem(df_condition['surprisal_zone6']))\n",
        "    lst_sem_surprisal_7.append(sem(df_condition['surprisal_zone7']))\n",
        "    lst_sem_surprisal_8.append(sem(df_condition['surprisal_zone8']))\n",
        "\n",
        "    lst_y.append([df_condition['surprisal_zone1'].mean(), df_condition['surprisal_zone2'].mean(), df_condition['surprisal_zone3'].mean(), df_condition['surprisal_zone4'].mean(),\n",
        "                  df_condition['surprisal_zone5'].mean(), df_condition['surprisal_zone6'].mean(), df_condition['surprisal_zone7'].mean(), df_condition['surprisal_zone8'].mean()])\n",
        "    lst_y_err.append([sem(df_condition['surprisal_zone1']), sem(df_condition['surprisal_zone2']),sem(df_condition['surprisal_zone3']), sem(df_condition['surprisal_zone4']),\n",
        "                      sem(df_condition['surprisal_zone5']), sem(df_condition['surprisal_zone6']),sem(df_condition['surprisal_zone7']), sem(df_condition['surprisal_zone8'])])\n",
        "  \n",
        "  df_result = {'condition':lst_condition, '1':lst_mean_surprisal_1, '2':lst_mean_surprisal_2, '3':lst_mean_surprisal_3, '4':lst_mean_surprisal_4, '5':lst_mean_surprisal_5,\n",
        "               '6':lst_mean_surprisal_6, '7':lst_mean_surprisal_7, '8':lst_mean_surprisal_8, \n",
        "               'sem_surprisal_1':lst_sem_surprisal_1, 'sem_surprisal_2':lst_sem_surprisal_2,'sem_surprisal_3':lst_sem_surprisal_3,'sem_surprisal_4':lst_sem_surprisal_4, \n",
        "               'sem_surprisal_5':lst_sem_surprisal_5, 'sem_surprisal_6':lst_sem_surprisal_6,'sem_surprisal_7':lst_sem_surprisal_7,'sem_surprisal_8':lst_sem_surprisal_8,\n",
        "               'lst_y':lst_y, 'lst_y_err':lst_y_err}\n",
        "  df_result = pd.DataFrame(df_result)\n",
        "  return df_result"
      ],
      "metadata": {
        "id": "aGXjfAaOZdIW"
      },
      "execution_count": null,
      "outputs": []
    },
    {
      "cell_type": "code",
      "source": [
        "def plot_position_6(low_noetr, medium_noetr, high_noetr,low_pp, medium_pp, high_pp, fig_name):\n",
        "  x = ['1', '2', '3', '4', '5', '6']\n",
        "  fig, axes = plt.subplots(1, 2, figsize=(9, 4))\n",
        "  axes[0].errorbar(x, eval(str(low_noetr['lst_y'].values[0])), yerr=eval(str(low_noetr['lst_y_err'].values[0])), label='low', color='#77AC30')\n",
        "  axes[0].errorbar(x, eval(str(medium_noetr['lst_y'].values[0])), yerr=eval(str(medium_noetr['lst_y_err'].values[0])), label='medium', color='#D95319')\n",
        "  axes[0].errorbar(x, eval(str(high_noetr['lst_y'].values[0])), yerr=eval(str(high_noetr['lst_y_err'].values[0])), label='high', color='#0072BD')\n",
        "  #axes[0].legend(loc=1, prop={'size':6})\n",
        "  axes[0].set_ylim(8.5,18.5)\n",
        "  axes[0].set_ylabel('surprisal', fontsize=12)\n",
        "  axes[0].set_title('no extraction',loc='left', fontsize=11, fontweight=\"bold\")\n",
        "\n",
        "  axes[1].errorbar(x, eval(str(low_pp['lst_y'].values[0])), yerr=eval(str(low_pp['lst_y_err'].values[0])), label='low', color='#77AC30')\n",
        "  axes[1].errorbar(x, eval(str(medium_pp['lst_y'].values[0])), yerr=eval(str(medium_pp['lst_y_err'].values[0])), label='medium', color='#D95319')\n",
        "  axes[1].errorbar(x, eval(str(high_pp['lst_y'].values[0])), yerr=eval(str(high_pp['lst_y_err'].values[0])), label='high', color='#0072BD')\n",
        "  axes[1].legend(loc='center left', bbox_to_anchor=(1, 0.9),ncol=1, prop={'size':6})\n",
        "  axes[1].set_ylim(8.5,18.5)\n",
        "  #axes[1].set_ylabel('surprisal', fontsize=12)\n",
        "  axes[1].set_title('PP-extracted',loc='left', fontsize=11, fontweight=\"bold\")\n",
        "  plt.savefig(fig_name+'.png', dpi=500, bbox_inches='tight')\n",
        "  plt.show()"
      ],
      "metadata": {
        "id": "A9SqJ9xxZrdj"
      },
      "execution_count": null,
      "outputs": []
    },
    {
      "cell_type": "code",
      "source": [
        "def plot_position_8(noextr_subj, noextr_obj, pp_subj, pp_obj, missingde_subj, missingde_obj, fig_name):\n",
        "  x = ['1', '2', '3', '4', '5', '6', '7', '8']\n",
        "  plt.figure(figsize=(8, 4))\n",
        "  plt.errorbar(x, eval(str(noextr_subj['lst_y'].values[0])), yerr=eval(str(noextr_subj['lst_y_err'].values[0])), label='no-extraction-subj', color='#77AC30')\n",
        "  plt.errorbar(x, eval(str(noextr_obj['lst_y'].values[0])), yerr=eval(str(noextr_obj['lst_y_err'].values[0])), label='no-extraction-obj', color='#77AC30', linestyle='dotted')\n",
        "\n",
        "  plt.errorbar(x, eval(str(pp_subj['lst_y'].values[0])), yerr=eval(str(pp_subj['lst_y_err'].values[0])), label='PP-extracted-subj', color='#D95319')\n",
        "  plt.errorbar(x, eval(str(pp_obj['lst_y'].values[0])), yerr=eval(str(pp_obj['lst_y_err'].values[0])), label='PP-extracted-obj', color='#D95319', linestyle='dotted')\n",
        "\n",
        "  plt.errorbar(x, eval(str(missingde_subj['lst_y'].values[0])), yerr=eval(str(missingde_subj['lst_y_err'].values[0])), label='ungrammm-subj', color='#0072BD')\n",
        "  plt.errorbar(x, eval(str(missingde_obj['lst_y'].values[0])), yerr=eval(str(missingde_obj['lst_y_err'].values[0])), label='ungrammm-obj', color='#0072BD', linestyle='dotted')\n",
        "\n",
        "  plt.legend(loc=1, prop={'size':6})\n",
        "  plt.ylabel('surprisal', fontsize=12)\n",
        "  plt.ylim(0,18)\n",
        "  plt.savefig(fig_name+'.png', dpi=500, bbox_inches='tight')\n",
        "  plt.show()"
      ],
      "metadata": {
        "id": "ulCqJAtKZoXY"
      },
      "execution_count": null,
      "outputs": []
    },
    {
      "cell_type": "markdown",
      "source": [
        "# Run"
      ],
      "metadata": {
        "id": "FTPYotQxZdqo"
      }
    },
    {
      "cell_type": "code",
      "source": [
        "DIR = ''"
      ],
      "metadata": {
        "id": "KX_LwnldZ_6x"
      },
      "execution_count": null,
      "outputs": []
    },
    {
      "cell_type": "markdown",
      "source": [
        "## Part 1"
      ],
      "metadata": {
        "id": "87NVA6bZZ39o"
      }
    },
    {
      "cell_type": "code",
      "source": [
        "df_en_pred_human_gap = pd.read_csv(DIR+'pred_human_gap.csv')\n",
        "df_en_pred_bert_gap = pd.read_csv(DIR+'en_bert_pred_gap.csv')\n",
        "df_en_pred_gpt = pd.read_csv(DIR+'en_gpt_pred_gap.csv')\n",
        "\n",
        "df_fr_pred_human_gap = pd.read_csv(DIR+'pred_fr_human_gap.csv')\n",
        "df_fr_pred_bert_gap = pd.read_csv(DIR+'pred_fr_bert_gap.csv')\n",
        "df_fr_pred_gpt = pd.read_csv(DIR+'pred_fr_gpt.csv')"
      ],
      "metadata": {
        "id": "OEgnyeedZtRP"
      },
      "execution_count": null,
      "outputs": []
    },
    {
      "cell_type": "code",
      "source": [
        "dict_human_en_gap = {'Process':{'dist-filler-gap':0,'inter-syn-gap':-0.18, 'embed':-0.25},\n",
        "               'Syntactic':{'extr-adj_hd':0,'extr-nom_hd':-0.28,'extr-no-subj':-0.2,'extr-subj-hd':-0.89},\n",
        "               'Semantic':{'inter-rel-gap':-0.39,'no-pronoun-filler':0.05},\n",
        "               'Discourse':{'focal-domain':-0.45}}\n",
        "dict_bert_en_gap = {'Process':{'dist-filler-gap':0,'inter-syn-gap':-0.14, 'embed':-0.11},\n",
        "               'Syntactic':{'extr-adj_hd':-0.26,'extr-nom_hd':0,'extr-no-subj':-0.07,'extr-subj-hd':-0.11},\n",
        "               'Semantic':{'inter-rel-gap':0,'no-pronoun-filler':0},\n",
        "               'Discourse':{'focal-domain':-0.38}}\n",
        "dict_gpt_en_gap = {'Process':{'dist-filler-gap':0,'inter-syn-gap':0, 'embed':0},\n",
        "               'Syntactic':{'extr-adj_hd':0,'extr-nom_hd':0,'extr-no-subj':-0.03,'extr-subj-hd':-0.08},\n",
        "               'Semantic':{'inter-rel-gap':0,'no-pronoun-filler':0},\n",
        "               'Discourse':{'focal-domain':-0.14}}\n",
        "\n",
        "dict_human_fr_gap = {'Process':{'dist-filler-gap':-1.13,'inter-syn-gap':0, 'embed':0},\n",
        "               'Syntactic':{'extr-adj_hd':0,'extr-nom_hd':0,'extr-no-subj':0,'extr-subj-hd':0},\n",
        "               'Semantic':{'inter-rel-gap':0,'no-pronoun-filler':-0.69},\n",
        "               'Discourse':{'focal-domain':-2}}\n",
        "dict_bert_fr_gap = {'Process':{'dist-filler-gap':0,'inter-syn-gap':0, 'embed':-1.58},\n",
        "               'Syntactic':{'extr-adj_hd':0,'extr-nom_hd':0,'extr-no-subj':0,'extr-subj-hd':0},\n",
        "               'Semantic':{'inter-rel-gap':-0.44,'no-pronoun-filler':0},\n",
        "               'Discourse':{'focal-domain':0}}\n",
        "dict_gpt_fr_gap = {'Process':{'dist-filler-gap':0,'inter-syn-gap':0, 'embed':0},\n",
        "               'Syntactic':{'extr-adj_hd': -0.85,'extr-nom_hd':0,'extr-no-subj':0,'extr-subj-hd':0},\n",
        "               'Semantic':{'inter-rel-gap':0,'no-pronoun-filler':0},\n",
        "               'Discourse':{'focal-domain':0}}"
      ],
      "metadata": {
        "id": "MrZ9CsldZ5e4"
      },
      "execution_count": null,
      "outputs": []
    },
    {
      "cell_type": "code",
      "source": [
        "plot_model_weight(dict_human_en_gap, 'en_human_gap.png')\n",
        "plot_model_weight(dict_human_fr_gap, 'fr_human_gap.png')\n",
        "\n",
        "plot_model_weight_human_lm(dict_human_en_gap, dict_bert_en_gap, dict_gpt_en_gap, 'en_human_lm_gap.png')\n",
        "plot_model_weight_human_lm(dict_human_fr_gap, dict_bert_fr_gap, dict_gpt_fr_gap, 'fr_human_lm_gap.png')"
      ],
      "metadata": {
        "id": "RFskqy8fai63"
      },
      "execution_count": null,
      "outputs": []
    },
    {
      "cell_type": "markdown",
      "source": [
        "## Part 2"
      ],
      "metadata": {
        "id": "H929GAJlbDQt"
      }
    },
    {
      "cell_type": "code",
      "source": [
        "df_exp1_bert = pd.read_csv(DIR+'exp1-bert.csv')\n",
        "df_exp2_bert = pd.read_csv(DIR+'exp2-bert.csv')\n",
        "df_exp3_bert = pd.read_csv(DIR+'exp3-bert.csv')\n",
        "df_exp41_bert = pd.read_csv(DIR+'exp4.1-bert.csv')\n",
        "df_exp42_bert = pd.read_csv(DIR+'exp4.2-bert.csv')\n",
        "df_exp43_bert = pd.read_csv(DIR+'exp4.3-bert.csv')\n",
        "df_exp51_bert = pd.read_csv(DIR+'exp5.1-bert.csv')\n",
        "df_exp52_bert = pd.read_csv(DIR+'exp5.2-bert.csv')\n",
        "df_exp6_bert = pd.read_csv(DIR+'exp6-bert.csv')\n",
        "\n",
        "df_exp1_gpt = pd.read_csv(DIR+'exp1-gpt.csv')\n",
        "df_exp2_gpt = pd.read_csv(DIR+'exp2-gpt.csv')\n",
        "df_exp3_gpt = pd.read_csv(DIR+'exp3-gpt.csv')\n",
        "df_exp41_gpt = pd.read_csv(DIR+'exp4.1-gpt.csv')\n",
        "df_exp42_gpt = pd.read_csv(DIR+'exp4.2-gpt.csv')\n",
        "df_exp43_gpt = pd.read_csv(DIR+'exp4.3-gpt.csv')\n",
        "df_exp51_gpt = pd.read_csv(DIR+'exp5.1-gpt.csv')\n",
        "df_exp52_gpt = pd.read_csv(DIR+'exp5.2-gpt.csv')\n",
        "df_exp6_gpt = pd.read_csv(DIR+'exp6-gpt.csv')"
      ],
      "metadata": {
        "id": "mrVWGmgFbG1_"
      },
      "execution_count": null,
      "outputs": []
    },
    {
      "cell_type": "code",
      "source": [
        "plot_accep_lp(df_exp1_bert, df_exp1_gpt, DIR, 1)\n",
        "plot_accep_lp(df_exp2_bert, df_exp2_gpt, DIR, 2)\n",
        "plot_accep_lp(df_exp3_bert, df_exp3_gpt, DIR, 3)\n",
        "\n",
        "plot_accep_lp(df_exp41_bert, df_exp41_gpt, DIR, 4.1)\n",
        "plot_accep_lp(df_exp42_bert, df_exp42_gpt, DIR, 4.2)\n",
        "plot_accep_lp(df_exp43_bert, df_exp43_gpt, DIR, 4.3)\n",
        "plot_accep_lp(df_exp51_bert, df_exp51_gpt, DIR, 5.1)\n",
        "plot_accep_lp(df_exp52_bert, df_exp52_gpt, DIR, 5.2)\n",
        "plot_accep_lp(df_exp6_bert, df_exp6_gpt, DIR, 6)"
      ],
      "metadata": {
        "id": "ohiriPR5bkdN"
      },
      "execution_count": null,
      "outputs": []
    },
    {
      "cell_type": "markdown",
      "source": [
        "## Part 3"
      ],
      "metadata": {
        "id": "rkQzJlDlb9pI"
      }
    },
    {
      "cell_type": "markdown",
      "source": [
        "###dont-rel"
      ],
      "metadata": {
        "id": "De7LDi-acRA7"
      }
    },
    {
      "cell_type": "code",
      "source": [
        "exp7_bert = pd.read_csv(DIR+'exp7-bert.csv')\n",
        "exp7_gpt = pd.read_csv(DIR+'exp7-gpt.csv')"
      ],
      "metadata": {
        "id": "RYLu1jdzb_sR"
      },
      "execution_count": null,
      "outputs": []
    },
    {
      "cell_type": "code",
      "source": [
        "df_exp7_noextr_low_bert = df_exp7_bert_result[df_exp7_bert_result['condition']=='no-extraction-low']\n",
        "df_exp7_noextr_medium_bert = df_exp7_bert_result[df_exp7_bert_result['condition']=='no-extraction-medium']\n",
        "df_exp7_noextr_high_bert = df_exp7_bert_result[df_exp7_bert_result['condition']=='no-extraction-high']\n",
        "df_exp7_ppextracted_low_bert = df_exp7_bert_result[df_exp7_bert_result['condition']=='PP-extracted-low']\n",
        "df_exp7_ppextracted_medium_bert = df_exp7_bert_result[df_exp7_bert_result['condition']=='PP-extracted-medium']\n",
        "df_exp7_ppextracted_high_bert = df_exp7_bert_result[df_exp7_bert_result['condition']=='PP-extracted-high']\n",
        "\n",
        "df_exp7_noextr_low_gpt = df_exp7_gpt_result[df_exp7_gpt_result['condition']=='no-extraction-low']\n",
        "df_exp7_noextr_medium_gpt = df_exp7_gpt_result[df_exp7_gpt_result['condition']=='no-extraction-medium']\n",
        "df_exp7_noextr_high_gpt = df_exp7_gpt_result[df_exp7_gpt_result['condition']=='no-extraction-high']\n",
        "df_exp7_ppextracted_low_gpt = df_exp7_gpt_result[df_exp7_gpt_result['condition']=='PP-extracted-low']\n",
        "df_exp7_ppextracted_medium_gpt = df_exp7_gpt_result[df_exp7_gpt_result['condition']=='PP-extracted-medium']\n",
        "df_exp7_ppextracted_high_gpt = df_exp7_gpt_result[df_exp7_gpt_result['condition']=='PP-extracted-high']"
      ],
      "metadata": {
        "id": "3ljWxmeCcL-Y"
      },
      "execution_count": null,
      "outputs": []
    },
    {
      "cell_type": "code",
      "source": [
        "df_exp7_bert_result.to_csv('exp7_bert.csv')\n",
        "df_exp7_gpt_result.to_csv('exp7_gpt.csv')"
      ],
      "metadata": {
        "id": "FKac_08gcN72"
      },
      "execution_count": null,
      "outputs": []
    },
    {
      "cell_type": "code",
      "source": [
        "plot_position_6(df_exp7_noextr_low_bert, df_exp7_noextr_medium_bert, df_exp7_noextr_high_bert,\n",
        "               df_exp7_ppextracted_low_bert, df_exp7_ppextracted_medium_bert, df_exp7_ppextracted_high_bert,'exp7_bert')\n",
        "plot_position_6(df_exp7_noextr_low_gpt, df_exp7_noextr_medium_gpt, df_exp7_noextr_high_gpt,\n",
        "               df_exp7_ppextracted_low_gpt, df_exp7_ppextracted_medium_gpt, df_exp7_ppextracted_high_gpt, 'exp7-gpt')"
      ],
      "metadata": {
        "id": "5rnxnoCqcP6Y"
      },
      "execution_count": null,
      "outputs": []
    },
    {
      "cell_type": "markdown",
      "source": [
        "### dequi-rel"
      ],
      "metadata": {
        "id": "qJz8wqbPcZ47"
      }
    },
    {
      "cell_type": "code",
      "source": [
        "df_exp8_bert = pd.read_csv(DIR+'exp8-bert.csv')\n",
        "df_exp8_gpt = pd.read_csv(DIR+'exp8-gpt.csv')\n",
        "df_exp8_bert = analyse_position_8(df_exp8_bert)\n",
        "df_exp8_gpt = analyse_position_8(df_exp8_gpt)\n",
        "\n",
        "df_exp8_bert.to_csv('exp8_bert.csv')\n",
        "df_exp8_gpt.to_csv('exp8_gpt.csv')"
      ],
      "metadata": {
        "id": "u83guBLGcciM"
      },
      "execution_count": null,
      "outputs": []
    },
    {
      "cell_type": "code",
      "source": [
        "df_exp8_noextr_obj_bert = df_exp8_bert[df_exp8_bert['condition']=='no-extraction-obj']\n",
        "df_exp8_noextr_subj_bert = df_exp8_bert[df_exp8_bert['condition']=='no-extraction-subj']\n",
        "df_exp8_pp_obj_bert =  df_exp8_bert[df_exp8_bert['condition']=='PP-extracted-obj']\n",
        "df_exp8_pp_subj_bert =  df_exp8_bert[df_exp8_bert['condition']=='PP-extracted-subj']\n",
        "df_exp8_missingde_subj_bert =  df_exp8_bert[df_exp8_bert['condition']=='missingde-subj']\n",
        "df_exp8_missingde_obj_bert =  df_exp8_bert[df_exp8_bert['condition']=='missingde-obj']\n",
        "\n",
        "df_exp8_noextr_obj_gpt = df_exp8_gpt[df_exp8_gpt['condition']=='no-extraction-obj']\n",
        "df_exp8_noextr_subj_gpt = df_exp8_gpt[df_exp8_gpt['condition']=='no-extraction-subj']\n",
        "df_exp8_pp_obj_gpt =  df_exp8_gpt[df_exp8_gpt['condition']=='PP-extracted-obj']\n",
        "df_exp8_pp_subj_gpt =  df_exp8_gpt[df_exp8_gpt['condition']=='PP-extracted-subj']\n",
        "df_exp8_missingde_subj_gpt =  df_exp8_gpt[df_exp8_gpt['condition']=='missingde-subj']\n",
        "df_exp8_missingde_obj_gpt =  df_exp8_gpt[df_exp8_gpt['condition']=='missingde-obj']"
      ],
      "metadata": {
        "id": "M6iWmxSYcw2s"
      },
      "execution_count": null,
      "outputs": []
    },
    {
      "cell_type": "code",
      "source": [
        "plot_position_8(df_exp8_noextr_obj_bert, df_exp8_noextr_subj_bert, df_exp8_pp_obj_bert, df_exp8_pp_subj_bert, df_exp8_missingde_subj_bert, df_exp8_missingde_obj_bert, 'exp8_bert')\n",
        "plot_position_8(df_exp8_noextr_obj_gpt, df_exp8_noextr_subj_gpt, df_exp8_pp_obj_gpt, df_exp8_pp_subj_gpt, df_exp8_missingde_subj_gpt, df_exp8_missingde_obj_gpt, 'exp8_gpt')"
      ],
      "metadata": {
        "id": "WtL6LySMczUV"
      },
      "execution_count": null,
      "outputs": []
    }
  ]
}